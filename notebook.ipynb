{
 "cells": [
  {
   "cell_type": "markdown",
   "metadata": {},
   "source": [
    "# 18-819 Project, Fall 2022\n",
    "\n",
    "Team Members:\n",
    "\n",
    "- Claudio Gomes ()\n",
    "- Ke Xu ()\n",
    "- Yuxuan Zheng (yzheng5@andrew.cmu.edu)"
   ]
  },
  {
   "cell_type": "markdown",
   "metadata": {},
   "source": [
    "## Introduction"
   ]
  },
  {
   "cell_type": "markdown",
   "metadata": {},
   "source": [
    "## Problem Formulation"
   ]
  },
  {
   "cell_type": "markdown",
   "metadata": {},
   "source": [
    "## Classical Approach"
   ]
  },
  {
   "cell_type": "code",
   "execution_count": 4,
   "metadata": {},
   "outputs": [
    {
     "name": "stdout",
     "output_type": "stream",
     "text": [
      "Requirement already satisfied: cvxpy in c:\\users\\work\\anaconda3\\envs\\qipml\\lib\\site-packages (1.2.2)\n",
      "Requirement already satisfied: ecos>=2 in c:\\users\\work\\anaconda3\\envs\\qipml\\lib\\site-packages (from cvxpy) (2.0.10)\n",
      "Requirement already satisfied: scs>=1.1.6 in c:\\users\\work\\anaconda3\\envs\\qipml\\lib\\site-packages (from cvxpy) (3.2.2)\n",
      "Requirement already satisfied: osqp>=0.4.1 in c:\\users\\work\\anaconda3\\envs\\qipml\\lib\\site-packages (from cvxpy) (0.6.2.post8)\n",
      "Requirement already satisfied: numpy>=1.15 in c:\\users\\work\\anaconda3\\envs\\qipml\\lib\\site-packages (from cvxpy) (1.23.1)\n",
      "Requirement already satisfied: scipy>=1.1.0 in c:\\users\\work\\anaconda3\\envs\\qipml\\lib\\site-packages (from cvxpy) (1.9.3)\n",
      "Requirement already satisfied: qdldl in c:\\users\\work\\anaconda3\\envs\\qipml\\lib\\site-packages (from osqp>=0.4.1->cvxpy) (0.1.5.post2)\n",
      "Note: you may need to restart the kernel to use updated packages.\n",
      "Requirement already satisfied: cvxopt in c:\\users\\work\\anaconda3\\envs\\qipml\\lib\\site-packages (1.3.0)\n",
      "Note: you may need to restart the kernel to use updated packages.\n",
      "Requirement already satisfied: dwave-system in c:\\users\\work\\anaconda3\\envs\\qipml\\lib\\site-packages (1.16.0)\n",
      "Requirement already satisfied: minorminer<0.3.0,>=0.2.8 in c:\\users\\work\\anaconda3\\envs\\qipml\\lib\\site-packages (from dwave-system) (0.2.9)\n",
      "Requirement already satisfied: dwave-cloud-client<0.11.0,>=0.9.1 in c:\\users\\work\\anaconda3\\envs\\qipml\\lib\\site-packages (from dwave-system) (0.10.3)\n",
      "Requirement already satisfied: scipy<2.0.0,>=1.5.2 in c:\\users\\work\\anaconda3\\envs\\qipml\\lib\\site-packages (from dwave-system) (1.9.3)\n",
      "Requirement already satisfied: dwave-preprocessing>=0.3 in c:\\users\\work\\anaconda3\\envs\\qipml\\lib\\site-packages (from dwave-system) (0.5.3)\n",
      "Requirement already satisfied: homebase<2.0.0,>=1.0.0 in c:\\users\\work\\anaconda3\\envs\\qipml\\lib\\site-packages (from dwave-system) (1.0.1)\n",
      "Requirement already satisfied: dwave-greedy>=0.2.0 in c:\\users\\work\\anaconda3\\envs\\qipml\\lib\\site-packages (from dwave-system) (0.2.5)\n",
      "Requirement already satisfied: networkx<3.0,>=2.0 in c:\\users\\work\\anaconda3\\envs\\qipml\\lib\\site-packages (from dwave-system) (2.8.8)\n",
      "Requirement already satisfied: dwave-networkx>=0.8.10 in c:\\users\\work\\anaconda3\\envs\\qipml\\lib\\site-packages (from dwave-system) (0.8.12)\n",
      "Requirement already satisfied: numpy<2.0.0,>=1.17.3 in c:\\users\\work\\anaconda3\\envs\\qipml\\lib\\site-packages (from dwave-system) (1.23.1)\n",
      "Requirement already satisfied: dimod<0.13.0,>=0.10.0 in c:\\users\\work\\anaconda3\\envs\\qipml\\lib\\site-packages (from dwave-system) (0.12.2)\n",
      "Requirement already satisfied: pydantic>=1.7.3 in c:\\users\\work\\anaconda3\\envs\\qipml\\lib\\site-packages (from dwave-cloud-client<0.11.0,>=0.9.1->dwave-system) (1.10.2)\n",
      "Requirement already satisfied: click>=7.0 in c:\\users\\work\\anaconda3\\envs\\qipml\\lib\\site-packages (from dwave-cloud-client<0.11.0,>=0.9.1->dwave-system) (8.1.3)\n",
      "Requirement already satisfied: plucky>=0.4.3 in c:\\users\\work\\anaconda3\\envs\\qipml\\lib\\site-packages (from dwave-cloud-client<0.11.0,>=0.9.1->dwave-system) (0.4.3)\n",
      "Requirement already satisfied: requests[socks]>=2.18 in c:\\users\\work\\anaconda3\\envs\\qipml\\lib\\site-packages (from dwave-cloud-client<0.11.0,>=0.9.1->dwave-system) (2.28.1)\n",
      "Requirement already satisfied: diskcache>=5.2.1 in c:\\users\\work\\anaconda3\\envs\\qipml\\lib\\site-packages (from dwave-cloud-client<0.11.0,>=0.9.1->dwave-system) (5.4.0)\n",
      "Requirement already satisfied: python-dateutil>=2.7 in c:\\users\\work\\anaconda3\\envs\\qipml\\lib\\site-packages (from dwave-cloud-client<0.11.0,>=0.9.1->dwave-system) (2.8.2)\n",
      "Requirement already satisfied: fasteners in c:\\users\\work\\anaconda3\\envs\\qipml\\lib\\site-packages (from minorminer<0.3.0,>=0.2.8->dwave-system) (0.18)\n",
      "Requirement already satisfied: rectangle-packer>=2.0.1 in c:\\users\\work\\anaconda3\\envs\\qipml\\lib\\site-packages (from minorminer<0.3.0,>=0.2.8->dwave-system) (2.0.1)\n",
      "Requirement already satisfied: colorama in c:\\users\\work\\anaconda3\\envs\\qipml\\lib\\site-packages (from click>=7.0->dwave-cloud-client<0.11.0,>=0.9.1->dwave-system) (0.4.5)\n",
      "Requirement already satisfied: typing-extensions>=4.1.0 in c:\\users\\work\\anaconda3\\envs\\qipml\\lib\\site-packages (from pydantic>=1.7.3->dwave-cloud-client<0.11.0,>=0.9.1->dwave-system) (4.3.0)\n",
      "Requirement already satisfied: six>=1.5 in c:\\users\\work\\anaconda3\\envs\\qipml\\lib\\site-packages (from python-dateutil>=2.7->dwave-cloud-client<0.11.0,>=0.9.1->dwave-system) (1.16.0)\n",
      "Requirement already satisfied: certifi>=2017.4.17 in c:\\users\\work\\anaconda3\\envs\\qipml\\lib\\site-packages (from requests[socks]>=2.18->dwave-cloud-client<0.11.0,>=0.9.1->dwave-system) (2022.9.24)\n",
      "Requirement already satisfied: idna<4,>=2.5 in c:\\users\\work\\anaconda3\\envs\\qipml\\lib\\site-packages (from requests[socks]>=2.18->dwave-cloud-client<0.11.0,>=0.9.1->dwave-system) (3.3)\n",
      "Requirement already satisfied: charset-normalizer<3,>=2 in c:\\users\\work\\anaconda3\\envs\\qipml\\lib\\site-packages (from requests[socks]>=2.18->dwave-cloud-client<0.11.0,>=0.9.1->dwave-system) (2.0.4)\n",
      "Requirement already satisfied: urllib3<1.27,>=1.21.1 in c:\\users\\work\\anaconda3\\envs\\qipml\\lib\\site-packages (from requests[socks]>=2.18->dwave-cloud-client<0.11.0,>=0.9.1->dwave-system) (1.26.11)\n",
      "Requirement already satisfied: PySocks!=1.5.7,>=1.5.6 in c:\\users\\work\\anaconda3\\envs\\qipml\\lib\\site-packages (from requests[socks]>=2.18->dwave-cloud-client<0.11.0,>=0.9.1->dwave-system) (1.7.1)\n",
      "Note: you may need to restart the kernel to use updated packages.\n"
     ]
    }
   ],
   "source": [
    "# Set up the environment\n",
    "%pip install cvxpy\n",
    "%pip install cvxopt\n",
    "%pip install dwave-system\n",
    "## Note: for dwave, you need to run dwave setup and put your API key."
   ]
  },
  {
   "cell_type": "markdown",
   "metadata": {},
   "source": [
    "You are able to run the classical solver on CPU with the following command:"
   ]
  },
  {
   "cell_type": "code",
   "execution_count": 1,
   "metadata": {},
   "outputs": [
    {
     "name": "stdout",
     "output_type": "stream",
     "text": [
      "2022-11-25 20:12:21 | main | DEBUG: Received input argument: Namespace(verbose=True, CPLEX=True)\n",
      "2022-11-25 20:12:21 | main | DEBUG: Project path: C:\\Users\\Work\\Documents\\GitHub\\18819-project\n",
      "2022-11-25 20:12:21 | main | INFO: Num of weights: 3\n",
      "2022-11-25 20:12:21 | main | INFO: Num of biases: 3\n",
      "2022-11-25 20:12:21 | main | INFO: Considering: name: linear_relu_stack.0, layer: Linear(in_features=784, out_features=20, bias=True)\n",
      "2022-11-25 20:12:21 | main | INFO:   lower bound: \n",
      "[[-0.4234205800365508 -1.8351959504381299 0.8804067259743539\n",
      "  -0.8196989746911543 -3.793728826809773 -1.8864171617425003\n",
      "  -0.5739344345791544 0.8865537540367369 -1.6154333620130206\n",
      "  -0.08706178086480955 -2.3534664022913234 -2.0912231290293244\n",
      "  -1.7001457389483525 -2.3174443445543202 -0.24076084230795802\n",
      "  0.11701600115205879 -2.1210138638766782 -1.9108620069399005\n",
      "  -3.217863043469488 10.206187134601869]]\n",
      "2022-11-25 20:12:21 | main | INFO:   upper bound: \n",
      "[[4.702268312221214 0.952284438434611 6.089216431741511 4.112201036429063\n",
      "  1.0762627533628297 0.8332344063040988 2.6142281691523026\n",
      "  5.9216697854339735 3.8355321894676067 5.844726207335273\n",
      "  1.4653437177931918 1.169327896468656 1.4536961113031783\n",
      "  0.48347564051711983 4.989265163654294 4.941050251991205\n",
      "  0.6253398108126231 3.3410572299628303 2.110495643123125\n",
      "  15.753634766635464]]\n",
      "2022-11-25 20:12:21 | main | INFO: Considering: name: linear_relu_stack.1, layer: ReLU()\n",
      "2022-11-25 20:12:21 | main | INFO: Considering: name: linear_relu_stack.2, layer: Linear(in_features=20, out_features=20, bias=True)\n",
      "2022-11-25 20:12:39 | main | INFO:   lower bound: \n",
      "[[-4.248844750761943 3.8346448473328314 -4.973836213518297\n",
      "  1.0296462898292082 -4.262541472012134 -0.2491880619620226\n",
      "  -2.0339877806480566 -6.147194000322807 -0.16426254525574024\n",
      "  -1.5109042249796534 -0.5109277716534351 1.110963949220173\n",
      "  -4.022917170052054 4.0052847370827545 2.245469499025824\n",
      "  -3.1868507270279576 4.551982850990902 3.6953925972687656\n",
      "  -1.1998641335131817 -3.2008292437262584]]\n",
      "2022-11-25 20:12:39 | main | INFO:   upper bound: \n",
      "[[-0.3366879674166383 8.522393762772413 1.4511113896805592\n",
      "  5.373073075607206 -1.9412187308653388 4.097138583824481\n",
      "  3.154959612440946 -0.4569667203345169 7.118438786414758\n",
      "  3.128135103975268 4.680455040340011 5.843441728781104\n",
      "  0.6595961708657749 9.042710041697726 7.001657748868318\n",
      "  1.9558022193070783 10.815184515235059 9.741112751964465\n",
      "  1.3880230839982852 1.080771551502043]]\n",
      "2022-11-25 20:12:39 | main | INFO: Considering: name: linear_relu_stack.3, layer: ReLU()\n",
      "2022-11-25 20:12:39 | main | INFO: Considering: name: linear_relu_stack.4, layer: Linear(in_features=20, out_features=10, bias=True)\n",
      "2022-11-25 20:12:50 | main | INFO:   lower bound: \n",
      "[[-3.7644883916361622 -8.05171067394626 -1.1126948757927608\n",
      "  -1.3901844141450825 -7.551479170767623 -4.178253352670181\n",
      "  -10.052813510146844 5.5806009035635835 -3.3449843882233985\n",
      "  -0.8456397166161325]]\n",
      "2022-11-25 20:12:50 | main | INFO:   upper bound: \n",
      "[[4.36583118587765 -0.21145768272112697 6.14815519348312\n",
      "  6.519668486205573 -0.8944556595722561 3.134819663966157\n",
      "  -5.165626035530741 14.45670017601204 2.604304047579721\n",
      "  6.787700878254193]]\n",
      "2022-11-25 20:12:51 | main | INFO: Optimal value reported by the classical solver: 0.6406743162922233\n",
      "2022-11-25 20:12:51 | main | INFO: Prediction given the original image:\n",
      "tensor([[ 0.1976, -4.1606,  2.3067,  1.8996, -4.2071, -0.8685, -7.9271, 10.4978,\n",
      "         -0.6089,  3.1202]], grad_fn=<AddmmBackward0>)\n",
      "2022-11-25 20:12:51 | main | INFO: Prediction given the perturbed image:\n",
      "tensor([[ 1.8217, -3.7457,  5.5837,  4.2855, -5.4219,  0.0590, -6.1901,  6.2244,\n",
      "          0.0844,  0.3920]], grad_fn=<AddmmBackward0>)\n",
      "2022-11-25 20:12:51 | main | INFO: Successfully ran the classical solver using CPLEX.\n"
     ]
    }
   ],
   "source": [
    "## Uncomment if you want to use CPLEX and generate .lp file of the model.\n",
    "## By default, it uses CVXOPT.\n",
    "## Args '-C' or '--CPLEX' make the function use CPLEX and generate .lp file.\n",
    "# !python classical/solver_mip.py -v -C\n",
    "!python classical/solver_mip.py -v"
   ]
  },
  {
   "cell_type": "markdown",
   "metadata": {},
   "source": [
    "## Quantum Approach"
   ]
  },
  {
   "cell_type": "code",
   "execution_count": 6,
   "metadata": {},
   "outputs": [
    {
     "name": "stdout",
     "output_type": "stream",
     "text": [
      "2022-11-25 20:11:46 | main | DEBUG: Received input argument: Namespace(verbose=True, sampleset=False)\n",
      "2022-11-25 20:11:46 | main | DEBUG: Project path: C:\\Users\\Work\\Documents\\GitHub\\18819-project\n",
      "2022-11-25 20:11:46 | main | INFO: 43 feasible solutions of 62.\n",
      "2022-11-25 20:11:46 | main | INFO: Best sample: Sample(sample={'x1': -0.0, 'x10': 1.2686546325486001, 'x100': 0.1, 'x101': 0.0, 'x102': 0.0, 'x103': 0.0, 'x104': 0.1, 'x105': 0.0, 'x106': 0.0, 'x107': 0.09999999999999999, 'x108': 0.0, 'x109': 0.0, 'x11': 1.8706970922190018, 'x110': 0.0, 'x111': 0.1, 'x112': 0.0, 'x113': 0.1, 'x114': 0.1, 'x115': 0.1, 'x116': 0.1, 'x117': 0.1, 'x118': 0.09999999999999999, 'x119': 0.09999999999999999, 'x12': 2.7112278645721823, 'x120': 0.1, 'x121': 0.1, 'x122': 0.1, 'x123': 0.1, 'x124': 0.1, 'x125': 0.0, 'x126': 0.0, 'x127': 0.0, 'x128': 0.0, 'x129': 0.0, 'x13': -0.0, 'x130': 0.0, 'x131': 0.0, 'x132': 0.0, 'x133': 0.0, 'x134': 0.0, 'x135': 0.0, 'x136': 0.1, 'x137': 0.0, 'x138': 0.0, 'x139': 0.1, 'x14': 5.596130427686201, 'x140': 0.0, 'x141': 0.1, 'x142': 0.1, 'x143': 0.1, 'x144': 0.10000000000000002, 'x145': 0.1, 'x146': 0.1, 'x147': 0.09999999999999999, 'x148': 0.1, 'x149': 0.10000000000000002, 'x15': 4.811328817651354, 'x150': 0.10000000000000002, 'x151': 0.09999999999999999, 'x152': 0.1, 'x153': 0.1, 'x154': 0.0, 'x155': 0.0, 'x156': 0.0, 'x157': 0.0, 'x158': 0.0, 'x159': 0.0, 'x16': 0.0, 'x160': 0.0, 'x161': 0.0, 'x162': 0.0, 'x163': 0.0, 'x164': 0.1, 'x165': 0.0, 'x166': 0.0, 'x167': 0.1, 'x168': 0.0, 'x169': 0.1, 'x17': 6.4670157104249295, 'x170': 0.1, 'x171': 0.1, 'x172': 0.1, 'x173': 0.1, 'x174': 0.1, 'x175': 0.1, 'x176': 0.1, 'x177': 0.1, 'x178': 0.10000000000000002, 'x179': 0.10000000000000002, 'x18': 5.8953422793199275, 'x180': 0.09999999999999999, 'x181': 0.09999999999999999, 'x182': 0.0, 'x183': 0.0, 'x184': 0.0, 'x185': 0.0, 'x186': 0.0, 'x187': 0.0, 'x188': 0.0, 'x189': 0.0, 'x19': 0.07574881558207262, 'x190': 0.0, 'x191': 0.1, 'x192': 0.0, 'x193': 0.1, 'x194': 0.0, 'x195': 0.0, 'x196': 0.1, 'x197': 0.1, 'x198': 0.10000000000000002, 'x199': 0.0, 'x2': 5.614163559744644, 'x20': -0.0, 'x200': 0.1, 'x201': 0.1, 'x202': 0.1, 'x203': 0.09999999999999999, 'x204': 0.1, 'x205': 0.1, 'x206': 0.1, 'x207': 0.10000000000000002, 'x208': 0.09999999999999999, 'x209': 0.09999999999999999, 'x21': 0.0, 'x210': 0.1, 'x211': 0.0, 'x212': 0.0, 'x213': 0.0, 'x214': 0.0, 'x215': 0.1, 'x216': 0.0, 'x217': 0.1, 'x218': 0.0, 'x219': 0.0, 'x22': 0.0, 'x220': 0.0, 'x221': 0.0, 'x222': 0.1, 'x223': 0.0, 'x224': 0.10000000000000002, 'x225': 0.09999999999999999, 'x226': 0.0, 'x227': 0.0, 'x228': 0.0, 'x229': 0.1, 'x23': 0.0, 'x230': 0.10000000000000002, 'x231': 0.0, 'x232': 0.0, 'x233': 0.0, 'x234': 0.0, 'x235': 0.0, 'x236': 0.0, 'x237': 0.0, 'x238': 0.0, 'x239': 0.0, 'x24': 0.0, 'x240': 0.0, 'x241': 0.0, 'x242': 0.0, 'x243': 0.0, 'x244': 0.0, 'x245': 0.1, 'x246': 0.0, 'x247': 0.0, 'x248': 0.0, 'x249': 0.1, 'x25': 0.0, 'x250': 0.0, 'x251': 0.0, 'x252': 0.0, 'x253': 0.0, 'x254': 0.0, 'x255': 0.1, 'x256': 0.10000000000000002, 'x257': 0.1, 'x258': 0.0, 'x259': 0.0, 'x26': 0.0, 'x260': 0.0, 'x261': 0.0, 'x262': 0.0, 'x263': 0.0, 'x264': 0.0, 'x265': 0.0, 'x266': 0.0, 'x267': 0.0, 'x268': 0.0, 'x269': 0.0, 'x27': 0.09999999999999999, 'x270': 0.0, 'x271': 0.09999999999999999, 'x272': 0.09999999999999999, 'x273': 0.0, 'x274': 0.0, 'x275': 0.0, 'x276': 0.0, 'x277': 0.0, 'x278': 0.0, 'x279': 0.0, 'x28': 0.0, 'x280': 0.10000000000000002, 'x281': 0.0, 'x282': 0.0, 'x283': 0.09999999999999999, 'x284': 0.0, 'x285': 0.0, 'x286': 0.0, 'x287': 0.0, 'x288': 0.0, 'x289': 0.0, 'x29': 0.0, 'x290': 0.0, 'x291': 0.0, 'x292': 0.0, 'x293': 0.0, 'x294': 0.0, 'x295': 0.0, 'x296': 0.09999999999999999, 'x297': 0.0, 'x298': 0.0, 'x299': 0.0, 'x3': -0.0, 'x30': 0.1, 'x300': 0.0, 'x301': 0.1, 'x302': 0.0, 'x303': 0.0, 'x304': 0.0, 'x305': 0.0, 'x306': 0.0, 'x307': 0.0, 'x308': 0.0, 'x309': 0.0, 'x31': 0.1, 'x310': 0.0, 'x311': 0.0, 'x312': 0.0, 'x313': 0.0, 'x314': 0.0, 'x315': 0.0, 'x316': 0.0, 'x317': 0.0, 'x318': 0.0, 'x319': 0.0, 'x32': 0.0, 'x320': 0.0, 'x321': 0.0, 'x322': 0.0, 'x323': 0.0, 'x324': 0.0, 'x325': 0.0, 'x326': 0.09999999999999999, 'x327': 0.10000000000000002, 'x328': 0.0, 'x329': 0.1, 'x33': 0.1, 'x330': 0.1, 'x331': 0.0, 'x332': 0.0, 'x333': 0.0, 'x334': 0.0, 'x335': 0.0, 'x336': 0.0, 'x337': 0.0, 'x338': 0.0, 'x339': 0.0, 'x34': 0.0, 'x340': 0.0, 'x341': 0.0, 'x342': 0.0, 'x343': 0.0, 'x344': 0.0, 'x345': 0.0, 'x346': 0.0, 'x347': 0.0, 'x348': 0.0, 'x349': 0.0, 'x35': 0.0, 'x350': 0.0, 'x351': 0.0, 'x352': 0.09999999999999999, 'x353': 0.1, 'x354': 0.09999999999999999, 'x355': 0.1, 'x356': 0.09999999999999999, 'x357': 0.0, 'x358': 0.0, 'x359': 0.0, 'x36': 0.09999999999999999, 'x360': 0.0, 'x361': 0.0, 'x362': 0.0, 'x363': 0.0, 'x364': 0.0, 'x365': 0.0, 'x366': 0.0, 'x367': 0.0, 'x368': 0.0, 'x369': 0.09999999999999999, 'x37': 0.0, 'x370': 0.1, 'x371': 0.0, 'x372': 0.0, 'x373': 0.0, 'x374': 0.0, 'x375': 0.0, 'x376': 0.0, 'x377': 0.0, 'x378': 0.0, 'x379': 0.0, 'x38': 0.1, 'x380': 0.1, 'x381': 0.1, 'x382': 0.0, 'x383': 0.0, 'x384': 0.0, 'x385': 0.0, 'x386': 0.0, 'x387': 0.0, 'x388': 0.1, 'x389': 0.0, 'x39': 0.0, 'x390': 0.0, 'x391': 0.0, 'x392': 0.0, 'x393': 0.0, 'x394': 0.0, 'x395': 0.0, 'x396': 0.1, 'x397': 0.09999999999999999, 'x398': 0.10000000000000002, 'x399': 0.10000000000000002, 'x4': 3.3462878659630526, 'x40': 0.0, 'x400': 0.0, 'x401': 0.0, 'x402': 0.0, 'x403': 0.0, 'x404': 0.0, 'x405': 0.0, 'x406': 0.0, 'x407': 0.0, 'x408': 0.1, 'x409': 0.1, 'x41': 0.0, 'x410': 0.0, 'x411': 0.0, 'x412': 0.1, 'x413': 0.0, 'x414': 0.0, 'x415': 0.0, 'x416': 0.0, 'x417': 0.0, 'x418': 0.0, 'x419': 0.0, 'x42': 0.0, 'x420': 0.0, 'x421': 0.09999999999999999, 'x422': 0.1, 'x423': 0.10000000000000002, 'x424': 0.1, 'x425': 0.1, 'x426': 0.1, 'x427': 0.1, 'x428': 0.0, 'x429': 0.0, 'x43': 0.09999999999999999, 'x430': 0.0, 'x431': 0.0, 'x432': 0.0, 'x433': 0.0, 'x434': 0.0, 'x435': 0.0, 'x436': 0.09999999999999999, 'x437': 0.1, 'x438': 0.10000000000000002, 'x439': 0.0, 'x44': 0.0, 'x440': 0.0, 'x441': 0.0, 'x442': 0.1, 'x443': 0.10000000000000002, 'x444': 0.0, 'x445': 0.0, 'x446': 0.1, 'x447': 0.0, 'x448': 0.10000000000000002, 'x449': 0.1, 'x45': 0.0, 'x450': 0.1, 'x451': 0.10000000000000002, 'x452': 0.1, 'x453': 0.10000000000000002, 'x454': 0.1, 'x455': 0.09999999999999999, 'x456': 0.0, 'x457': 0.0, 'x458': 0.0, 'x459': 0.0, 'x46': 0.10000000000000002, 'x460': 0.0, 'x461': 0.0, 'x462': 0.0, 'x463': 0.0, 'x464': 0.0, 'x465': 0.1, 'x466': 0.09999999999999999, 'x467': 0.0, 'x468': 0.1, 'x469': 0.0, 'x47': 0.0, 'x470': 0.0, 'x471': 0.0, 'x472': 0.0, 'x473': 0.1, 'x474': 0.1, 'x475': 0.10000000000000002, 'x476': 0.0, 'x477': 0.0, 'x478': 0.1, 'x479': 0.09999999999999999, 'x48': 0.0, 'x480': 0.1, 'x481': 0.09999999999999999, 'x482': 0.1, 'x483': 0.1, 'x484': 0.1, 'x485': 0.0, 'x486': 0.0, 'x487': 0.0, 'x488': 0.0, 'x489': 0.0, 'x49': 0.0, 'x490': 0.0, 'x491': 0.0, 'x492': 0.1, 'x493': 0.1, 'x494': 0.1, 'x495': 0.1, 'x496': 0.1, 'x497': 0.0, 'x498': 0.0, 'x499': 0.0, 'x5': -0.0, 'x50': 0.09999999999999999, 'x500': 0.1, 'x501': 0.1, 'x502': 0.1, 'x503': 0.1, 'x504': 0.09999999999999999, 'x505': 0.0, 'x506': 0.1, 'x507': 0.1, 'x508': 0.10000000000000002, 'x509': 0.09999999999999999, 'x51': 0.0, 'x510': 0.1, 'x511': 0.10000000000000002, 'x512': 0.0, 'x513': 0.09999999999999999, 'x514': 0.0, 'x515': 0.0, 'x516': 0.09999999999999999, 'x517': 0.0, 'x518': 0.1, 'x519': 0.1, 'x52': 0.1, 'x520': 0.09999999999999999, 'x521': 0.09999999999999999, 'x522': 0.09999999999999999, 'x523': 0.0, 'x524': 0.0, 'x525': 0.0, 'x526': 0.0, 'x527': 0.0, 'x528': 0.1, 'x529': 0.1, 'x53': 0.0, 'x530': 0.1, 'x531': 0.1, 'x532': 0.09999999999999999, 'x533': 0.1, 'x534': 0.1, 'x535': 0.1, 'x536': 0.10000000000000002, 'x537': 0.1, 'x538': 0.1, 'x539': 0.0, 'x54': 0.0, 'x540': 0.1, 'x541': 0.10000000000000002, 'x542': 0.10000000000000002, 'x543': 0.09999999999999999, 'x544': 0.10000000000000002, 'x545': 0.1, 'x546': 0.1, 'x547': 0.1, 'x548': 0.1, 'x549': 0.09999999999999999, 'x55': 0.0, 'x550': 0.1, 'x551': 0.0, 'x552': 0.0, 'x553': 0.0, 'x554': 0.0, 'x555': 0.0, 'x556': 0.1, 'x557': 0.1, 'x558': 0.1, 'x559': 0.1, 'x56': 0.0, 'x560': 0.1, 'x561': 0.10000000000000002, 'x562': 0.1, 'x563': 0.09999999999999999, 'x564': 0.1, 'x565': 0.1, 'x566': 0.10000000000000002, 'x567': 0.10000000000000002, 'x568': 0.1, 'x569': 0.09999999999999999, 'x57': 0.0, 'x570': 0.10000000000000002, 'x571': 0.09999999999999999, 'x572': 0.1, 'x573': 0.1, 'x574': 0.09999999999999999, 'x575': 0.09999999999999999, 'x576': 0.10000000000000002, 'x577': 0.1, 'x578': 0.10000000000000002, 'x579': 0.0, 'x58': 0.0, 'x580': 0.0, 'x581': 0.0, 'x582': 0.0, 'x583': 0.0, 'x584': 0.10000000000000002, 'x585': 0.10000000000000002, 'x586': 0.1, 'x587': 0.1, 'x588': 0.09999999999999999, 'x589': 0.1, 'x59': 0.10000000000000002, 'x590': 0.1, 'x591': 0.1, 'x592': 0.10000000000000002, 'x593': 0.1, 'x594': 0.10000000000000002, 'x595': 0.10000000000000002, 'x596': 0.1, 'x597': 0.10000000000000002, 'x598': 0.10000000000000002, 'x599': 0.1, 'x6': 2.1477483529968326, 'x60': 0.0, 'x600': 0.09999999999999999, 'x601': 0.1, 'x602': 0.1, 'x603': 0.10000000000000002, 'x604': 0.1, 'x605': 0.10000000000000002, 'x606': 0.0, 'x607': 0.0, 'x608': 0.1, 'x609': 0.0, 'x61': 0.1, 'x610': 0.1, 'x611': 0.10000000000000002, 'x612': 0.0, 'x613': 0.09999999999999999, 'x614': 0.09999999999999999, 'x615': 0.1, 'x616': 0.09999999999999999, 'x617': 0.10000000000000002, 'x618': 0.09999999999999999, 'x619': 0.1, 'x62': 0.0, 'x620': 0.09999999999999999, 'x621': 0.1, 'x622': 0.1, 'x623': 0.09999999999999999, 'x624': 0.09999999999999999, 'x625': 0.10000000000000002, 'x626': 0.10000000000000002, 'x627': 0.09999999999999999, 'x628': 0.1, 'x629': 0.1, 'x63': 0.0, 'x630': 0.1, 'x631': 0.09999999999999999, 'x632': 0.1, 'x633': 0.1, 'x634': 0.0, 'x635': 0.0, 'x636': 0.0, 'x637': 0.10000000000000002, 'x638': 0.1, 'x639': 0.0, 'x64': 0.09999999999999999, 'x640': 0.1, 'x641': 0.1, 'x642': 0.1, 'x643': 0.1, 'x644': 0.1, 'x645': 0.1, 'x646': 0.09999999999999999, 'x647': 0.10000000000000002, 'x648': 0.1, 'x649': 0.10000000000000002, 'x65': 0.0, 'x650': 0.10000000000000002, 'x651': 0.1, 'x652': 0.1, 'x653': 0.1, 'x654': 0.10000000000000002, 'x655': 0.09999999999999999, 'x656': 0.1, 'x657': 0.1, 'x658': 0.1, 'x659': 0.1, 'x66': 0.0, 'x660': 0.1, 'x661': 0.1, 'x662': 0.0, 'x663': 0.0, 'x664': 0.0, 'x665': 0.1, 'x666': 0.0, 'x667': 0.0, 'x668': 0.0, 'x669': 0.09999999999999999, 'x67': 0.1, 'x670': 0.10000000000000002, 'x671': 0.1, 'x672': 0.0, 'x673': 0.0, 'x674': 0.09999999999999999, 'x675': 0.1, 'x676': 0.1, 'x677': 0.1, 'x678': 0.1, 'x679': 0.1, 'x68': 0.0, 'x680': 0.09999999999999999, 'x681': 0.1, 'x682': 0.09999999999999999, 'x683': 0.1, 'x684': 0.1, 'x685': 0.1, 'x686': 0.1, 'x687': 0.1, 'x688': 0.1, 'x689': 0.0, 'x69': 0.1, 'x690': 0.09999999999999999, 'x691': 0.0, 'x692': 0.1, 'x693': 0.0, 'x694': 0.0, 'x695': 0.09999999999999999, 'x696': 0.0, 'x697': 0.0, 'x698': 0.0, 'x699': 0.0, 'x7': 0.6989185832002044, 'x70': 0.0, 'x700': 0.0, 'x701': 0.0, 'x702': 0.0, 'x703': 0.0, 'x704': 0.0, 'x705': 0.0, 'x706': 0.1, 'x707': 0.09999999999999999, 'x708': 0.1, 'x709': 0.1, 'x71': 0.0, 'x710': 0.1, 'x711': 0.09999999999999999, 'x712': 0.1, 'x713': 0.0, 'x714': 0.0, 'x715': 0.0, 'x716': 0.09999999999999999, 'x717': 0.1, 'x718': 0.0, 'x719': 0.1, 'x72': 0.0, 'x720': 0.0, 'x721': 0.0, 'x722': 0.0, 'x723': 0.0, 'x724': 0.0, 'x725': 0.0, 'x726': 0.0, 'x727': 0.0, 'x728': 0.0, 'x729': 0.0, 'x73': 0.1, 'x730': 0.0, 'x731': 0.0, 'x732': 0.0, 'x733': 0.0, 'x734': 0.0, 'x735': 0.0, 'x736': 0.0, 'x737': 0.0, 'x738': 0.0, 'x739': 0.0, 'x74': 0.0, 'x740': 0.0, 'x741': 0.0, 'x742': 0.0, 'x743': 0.0, 'x744': 0.0, 'x745': 0.1, 'x746': 0.0, 'x747': 0.1, 'x748': 0.1, 'x749': 0.1, 'x75': 0.1, 'x750': 0.0, 'x751': 0.09999999999999999, 'x752': 0.0, 'x753': 0.09999999999999999, 'x754': 0.0, 'x755': 0.0, 'x756': 0.0, 'x757': 0.0, 'x758': 0.0, 'x759': 0.0, 'x76': 0.1, 'x760': 0.0, 'x761': 0.0, 'x762': 0.0, 'x763': 0.0, 'x764': 0.0, 'x765': 0.0, 'x766': 0.0, 'x767': 0.0, 'x768': 0.0, 'x769': 0.1, 'x77': 0.0, 'x770': 0.0, 'x771': 0.0, 'x772': 0.0, 'x773': 0.0, 'x774': 0.0, 'x775': 0.0, 'x776': 0.0, 'x777': 0.0, 'x778': 0.10000000000000002, 'x779': 0.0, 'x78': 0.0, 'x780': 0.0, 'x781': 0.0, 'x782': 0.0, 'x783': 0.0, 'x784': 0.0, 'x785': 0.0, 'x786': 0.09999999999999999, 'x787': 0.0, 'x788': 0.0, 'x789': 0.0, 'x79': 0.0, 'x790': 0.0, 'x791': 0.0, 'x792': 0.0, 'x793': 0.0, 'x794': 0.0, 'x795': 0.1, 'x796': 0.0, 'x797': 0.0, 'x798': 0.0, 'x799': 0.0, 'x8': -0.0, 'x80': 0.1, 'x800': 0.0, 'x801': 0.1, 'x802': 0.0, 'x803': 0.10000000000000002, 'x804': 0.0, 'x805': 2.059169712650692, 'x806': -0.0, 'x807': 3.9665110573939626, 'x808': 1.174432988748083, 'x809': -0.0, 'x81': 0.0, 'x810': 0.0, 'x811': 0.9387186639113165, 'x812': 3.7789231330988207, 'x813': 1.7837258695552167, 'x814': 2.0909996657148917, 'x815': 0.0, 'x816': -0.0, 'x817': -0.0, 'x818': -0.0, 'x819': 2.6907037042922113, 'x82': 0.1, 'x820': 2.1393727388729475, 'x821': -0.0, 'x822': 1.359328139808806, 'x823': -0.0, 'x824': 11.942820260237104, 'x825': 1.0, 'x826': 0.0, 'x827': 1.0, 'x828': 1.0, 'x829': 0.0, 'x83': 0.0, 'x830': 0.0, 'x831': 1.0, 'x832': 1.0, 'x833': 1.0, 'x834': 1.0, 'x835': 0.0, 'x836': 0.0, 'x837': 0.0, 'x838': 0.0, 'x839': 1.0, 'x84': 0.1, 'x840': 1.0, 'x841': 0.0, 'x842': 1.0, 'x843': 0.0, 'x844': 1.0, 'x845': 0.0, 'x846': 1.0, 'x847': 0.0, 'x848': 1.0, 'x849': 0.0, 'x85': 0.0, 'x850': 1.0, 'x851': 1.0, 'x852': 0.0, 'x853': 1.0, 'x854': 1.0, 'x855': 1.0, 'x856': 1.0, 'x857': 0.0, 'x858': 1.0, 'x859': 1.0, 'x86': 0.1, 'x860': 0.0, 'x861': 1.0, 'x862': 1.0, 'x863': 1.0, 'x864': 0.0, 'x87': 0.1, 'x88': 0.10000000000000002, 'x89': 0.1, 'x9': 4.875453224672971, 'x90': 0.10000000000000002, 'x91': 0.09999999999999999, 'x92': 0.1, 'x93': 0.1, 'x94': 0.1, 'x95': 0.1, 'x96': 0.09999999999999999, 'x97': 0.0, 'x98': 0.0, 'x99': 0.0}, energy=4.32191609790854, num_occurrences=1, is_satisfied=array([ True,  True,  True, ...,  True,  True,  True]), is_feasible=True)\n",
      "2022-11-25 20:11:46 | main | INFO: Prediction given the original image:\n",
      "tensor([[ 0.1976, -4.1606,  2.3067,  1.8996, -4.2071, -0.8685, -7.9271, 10.4978,\n",
      "         -0.6089,  3.1202]], grad_fn=<AddmmBackward0>)\n",
      "2022-11-25 20:11:46 | main | INFO: Prediction given the perturbed image:\n",
      "tensor([[ 0.9034, -3.9465,  3.8630,  3.1496, -4.6255, -0.5040, -7.0738,  8.2812,\n",
      "         -0.2686,  1.8226]], grad_fn=<AddmmBackward0>)\n",
      "2022-11-25 20:11:46 | main | INFO: Successfully ran the D-Wave hybrid CQM solver.\n"
     ]
    }
   ],
   "source": [
    "## Uncomment if you want to calculate a new sampleset.\n",
    "## By default, it uses last obtained sampleset.\n",
    "## Args '-s' or '--sampleset' make the function calculate new sampleset.\n",
    "# !python quantum/solver_dwave.py -v -s\n",
    "!python quantum/solver_dwave.py -v"
   ]
  },
  {
   "cell_type": "markdown",
   "metadata": {},
   "source": [
    "## Comparison"
   ]
  }
 ],
 "metadata": {
  "kernelspec": {
   "display_name": "Python 3.9.13 ('qipml')",
   "language": "python",
   "name": "python3"
  },
  "language_info": {
   "codemirror_mode": {
    "name": "ipython",
    "version": 3
   },
   "file_extension": ".py",
   "mimetype": "text/x-python",
   "name": "python",
   "nbconvert_exporter": "python",
   "pygments_lexer": "ipython3",
   "version": "3.9.13"
  },
  "orig_nbformat": 4,
  "vscode": {
   "interpreter": {
    "hash": "3f07edd88bfd061d64b199a9be2c643474895834638d473d3258b99b118e9971"
   }
  }
 },
 "nbformat": 4,
 "nbformat_minor": 2
}
