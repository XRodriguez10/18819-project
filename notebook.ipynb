{
 "cells": [
  {
   "cell_type": "markdown",
   "metadata": {},
   "source": [
    "# 18-819 Project, Fall 2022\n",
    "\n",
    "Team Members:\n",
    "\n",
    "- Claudio Gomes ()\n",
    "- Ke Xu ()\n",
    "- Yuxuan Zheng (yzheng5@andrew.cmu.edu)"
   ]
  },
  {
   "cell_type": "markdown",
   "metadata": {},
   "source": [
    "## Introduction"
   ]
  },
  {
   "cell_type": "markdown",
   "metadata": {},
   "source": [
    "## Problem Formulation"
   ]
  },
  {
   "cell_type": "markdown",
   "metadata": {},
   "source": [
    "## Classical Approach"
   ]
  },
  {
   "cell_type": "code",
   "execution_count": 1,
   "metadata": {},
   "outputs": [
    {
     "name": "stdout",
     "output_type": "stream",
     "text": [
      "Requirement already satisfied: cvxpy in /home/eric/Apps/anaconda3/lib/python3.8/site-packages (1.2.2)\n",
      "Requirement already satisfied: numpy>=1.15 in /home/eric/Apps/anaconda3/lib/python3.8/site-packages (from cvxpy) (1.19.2)\n",
      "Requirement already satisfied: ecos>=2 in /home/eric/Apps/anaconda3/lib/python3.8/site-packages (from cvxpy) (2.0.10)\n",
      "Requirement already satisfied: scipy>=1.1.0 in /home/eric/Apps/anaconda3/lib/python3.8/site-packages (from cvxpy) (1.5.2)\n",
      "Requirement already satisfied: osqp>=0.4.1 in /home/eric/Apps/anaconda3/lib/python3.8/site-packages (from cvxpy) (0.6.2.post5)\n",
      "Requirement already satisfied: scs>=1.1.6 in /home/eric/Apps/anaconda3/lib/python3.8/site-packages (from cvxpy) (3.2.2)\n",
      "Requirement already satisfied: qdldl in /home/eric/Apps/anaconda3/lib/python3.8/site-packages (from osqp>=0.4.1->cvxpy) (0.1.5.post2)\n",
      "Note: you may need to restart the kernel to use updated packages.\n",
      "Requirement already satisfied: cvxopt in /home/eric/Apps/anaconda3/lib/python3.8/site-packages (1.3.0)\n",
      "Note: you may need to restart the kernel to use updated packages.\n"
     ]
    }
   ],
   "source": [
    "# Set up the environment\n",
    "%pip install cvxpy\n",
    "%pip install cvxopt"
   ]
  },
  {
   "cell_type": "markdown",
   "metadata": {},
   "source": [
    "You are able to run the classical solver on CPU with the following command:"
   ]
  },
  {
   "cell_type": "code",
   "execution_count": 3,
   "metadata": {},
   "outputs": [
    {
     "name": "stdout",
     "output_type": "stream",
     "text": [
      "2022-11-22 16:10:59 | main | DEBUG: Received input argument: Namespace(verbose=True)\n",
      "2022-11-22 16:10:59 | main | DEBUG: Project path: /home/eric/cmu/18819/18819-project\n",
      "/home/eric/Apps/anaconda3/lib/python3.8/site-packages/torchvision/datasets/mnist.py:498: UserWarning: The given NumPy array is not writeable, and PyTorch does not support non-writeable tensors. This means you can write to the underlying (supposedly non-writeable) NumPy array using the tensor. You may want to copy the array to protect its data or make it writeable before converting it to a tensor. This type of warning will be suppressed for the rest of this program. (Triggered internally at  /opt/conda/conda-bld/pytorch_1623448216815/work/torch/csrc/utils/tensor_numpy.cpp:180.)\n",
      "  return torch.from_numpy(parsed.astype(m[2], copy=False)).view(*s)\n",
      "2022-11-22 16:10:59 | main | INFO: Num of weights: 3\n",
      "2022-11-22 16:10:59 | main | INFO: Num of biases: 3\n",
      "2022-11-22 16:10:59 | main | INFO: Considering: name: linear_relu_stack.0, layer: Linear(in_features=784, out_features=20, bias=True)\n",
      "2022-11-22 16:10:59 | main | INFO:   lower bound: \n",
      "[[-0.4234205800365512 -1.8351959504381292 0.8804067259743545\n",
      "  -0.8196989746911539 -3.793728826809773 -1.8864171617424996\n",
      "  -0.5739344345791553 0.8865537540367365 -1.6154333620130201\n",
      "  -0.08706178086480877 -2.3534664022913248 -2.091223129029325\n",
      "  -1.7001457389483523 -2.3174443445543202 -0.24076084230795824\n",
      "  0.11701600115206118 -2.121013863876679 -1.9108620069399005\n",
      "  -3.2178630434694875 10.206187134601866]]\n",
      "2022-11-22 16:10:59 | main | INFO:   upper bound: \n",
      "[[4.702268312221215 0.9522844384346113 6.089216431741512\n",
      "  4.112201036429062 1.07626275336283 0.8332344063040993 2.614228169152304\n",
      "  5.9216697854339735 3.835532189467604 5.844726207335274\n",
      "  1.465343717793192 1.1693278964686562 1.4536961113031786\n",
      "  0.48347564051711955 4.989265163654292 4.941050251991208\n",
      "  0.6253398108126232 3.3410572299628303 2.1104956431231274\n",
      "  15.753634766635468]]\n",
      "2022-11-22 16:10:59 | main | INFO: Considering: name: linear_relu_stack.1, layer: ReLU()\n",
      "2022-11-22 16:10:59 | main | INFO: Considering: name: linear_relu_stack.2, layer: Linear(in_features=20, out_features=20, bias=True)\n",
      "2022-11-22 16:11:33 | main | INFO:   lower bound: \n",
      "[[-4.2488447507619425 3.8346448473328443 -4.9738362135182985\n",
      "  1.0296462898292114 -4.262541472012133 -0.2491880619620167\n",
      "  -2.033987780648049 -6.1471940003228065 -0.16426254525573247\n",
      "  -1.5109042249796452 -0.5109277716534391 1.1109639492201744\n",
      "  -4.022917170052051 4.0052847370827465 2.2454694990258273\n",
      "  -3.1868507270279602 4.55198285099089 3.6953925972687607\n",
      "  -1.1998641335131843 -3.2008292437262575]]\n",
      "2022-11-22 16:11:33 | main | INFO:   upper bound: \n",
      "[[-0.33668796741664836 8.522393762772415 1.4511113896805519\n",
      "  5.3730730756072145 -1.9412187308653397 4.097138583824485\n",
      "  3.1549596124409502 -0.4569667203345191 7.118438786414758\n",
      "  3.128135103975269 4.680455040340004 5.843441728781099\n",
      "  0.6595961708657794 9.042710041697726 7.001657748868315 1.95580221930708\n",
      "  10.815184515235059 9.74111275196447 1.3880230839982803\n",
      "  1.080771551502046]]\n",
      "2022-11-22 16:11:33 | main | INFO: Considering: name: linear_relu_stack.3, layer: ReLU()\n",
      "2022-11-22 16:11:34 | main | INFO: Considering: name: linear_relu_stack.4, layer: Linear(in_features=20, out_features=10, bias=True)\n",
      "2022-11-22 16:12:32 | main | INFO:   lower bound: \n",
      "[[-3.7644883916361698 -8.051710673946246 -1.11269487579275\n",
      "  -1.39018441414507 -7.551479170767625 -4.17825335267018\n",
      "  -10.05281351014684 5.580600903563569 -3.3449843882234003\n",
      "  -0.8456397166161453]]\n",
      "2022-11-22 16:12:32 | main | INFO:   upper bound: \n",
      "[[4.365831185877642 -0.21145768272111543 6.148155193483128\n",
      "  6.51966848620558 -0.8944556595722686 3.1348196639661583\n",
      "  -5.165626035530736 14.456700176012038 2.604304047579709\n",
      "  6.78770087825418]]\n",
      "2022-11-22 16:12:38 | main | INFO: Optimal value reported by the classical solver: 0.6406743162922037\n",
      "2022-11-22 16:12:38 | main | INFO: Prediction given the original image:\n",
      "tensor([[ 0.1976, -4.1606,  2.3067,  1.8996, -4.2071, -0.8685, -7.9271, 10.4978,\n",
      "         -0.6089,  3.1202]], grad_fn=<AddmmBackward>)\n",
      "2022-11-22 16:12:38 | main | INFO: Prediction given the perturbed image:\n",
      "tensor([[ 1.8217, -3.7457,  5.5837,  4.2855, -5.4219,  0.0590, -6.1901,  6.2244,\n",
      "          0.0844,  0.3920]], grad_fn=<AddmmBackward>)\n",
      "2022-11-22 16:12:38 | main | INFO: Successfully ran the classical solver.\n"
     ]
    }
   ],
   "source": [
    "!python classical/solver_mip.py -v"
   ]
  },
  {
   "cell_type": "markdown",
   "metadata": {},
   "source": [
    "## Quantum Approach"
   ]
  },
  {
   "cell_type": "markdown",
   "metadata": {},
   "source": [
    "## Comparison"
   ]
  }
 ],
 "metadata": {
  "kernelspec": {
   "display_name": "Python 3.8.5 ('base')",
   "language": "python",
   "name": "python3"
  },
  "language_info": {
   "codemirror_mode": {
    "name": "ipython",
    "version": 3
   },
   "file_extension": ".py",
   "mimetype": "text/x-python",
   "name": "python",
   "nbconvert_exporter": "python",
   "pygments_lexer": "ipython3",
   "version": "3.8.5"
  },
  "orig_nbformat": 4,
  "vscode": {
   "interpreter": {
    "hash": "93b135cf8640cf9d94f9a81a6dd8d7b1fd252feda7a2f06a27ca11f03ecee7a5"
   }
  }
 },
 "nbformat": 4,
 "nbformat_minor": 2
}
